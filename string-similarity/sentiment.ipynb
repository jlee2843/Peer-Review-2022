{
 "cells": [
  {
   "cell_type": "code",
   "execution_count": 1,
   "metadata": {},
   "outputs": [
    {
     "name": "stderr",
     "output_type": "stream",
     "text": [
      "No model was supplied, defaulted to distilbert-base-uncased-finetuned-sst-2-english and revision af0f99b (https://huggingface.co/distilbert-base-uncased-finetuned-sst-2-english).\n",
      "Using a pipeline without specifying a model name and revision in production is not recommended.\n",
      "Xformers is not installed correctly. If you want to use memory_efficient_attention to accelerate training use the following command to install Xformers\n",
      "pip install xformers.\n"
     ]
    }
   ],
   "source": [
    "import spacy\n",
    "nlp = spacy.load(\"en_core_web_lg\")\n",
    "import pandas as pd\n",
    "from transformers import pipeline\n",
    "sentiment_pipeline = pipeline(\"sentiment-analysis\")\n",
    "data = ['good', 'bad']\n",
    "s = sentiment_pipeline(data)\n",
    "polarize = lambda d:((d['label']=='POSITIVE')*2-1) * d['score']\n",
    "mean = lambda l:sum(l)/len(l) if len(l)>0 else 0\n",
    "\n",
    "import textstat"
   ]
  },
  {
   "cell_type": "code",
   "execution_count": 2,
   "metadata": {},
   "outputs": [],
   "source": [
    "# pairs = [\n",
    "#     {\n",
    "#         'description' : \"Test 1: near identical\",\n",
    "#         'pre' : 'This is the first part of a testing pair, where the second part will be almost identical.',\n",
    "#         'pub' : 'This is the second part of a testing pair, where the first part was almost identical.'\n",
    "#     },\n",
    "#     {\n",
    "#         'description': \"title of first COVID NMA study 10.1101/2020.01.30.20019844\",\n",
    "#         'pre' : \"The impact of transmission control measures during the first 50 days of the COVID-19 epidemic in China\",\n",
    "#         'pub' : \"An investigation of transmission control measures during the first 50 days of the COVID-19 epidemic in China\"\n",
    "\n",
    "#     },\n",
    "#     {\n",
    "#         'description' : \"abstract of first COVID NMA study 10.1101/2020.01.30.20019844\",\n",
    "#         'pre' : \"Respiratory illness caused by a novel coronavirus (COVID-19) appeared in China during December 2019. Attempting to contain infection, China banned travel to and from Wuhan city on 23 January and implemented a national emergency response. Here we evaluate the spread and control of the epidemic based on a unique synthesis of data including case reports, human movement and public health interventions. The Wuhan shutdown slowed the dispersal of infection to other cities by an estimated 2.91 days (95%CI: 2.54-3.29), delaying epidemic growth elsewhere in China. Other cities that implemented control measures pre-emptively reported 33.3% (11.1-44.4%) fewer cases in the first week of their outbreaks (13.0; 7.1-18.8) compared with cities that started control later (20.6; 14.5-26.8). Among interventions investigated here, the most effective were suspending intra-city public transport, closing entertainment venues and banning public gatherings. The national emergency response delayed the growth and limited the size of the COVID-19 epidemic and, by 19 February (day 50), had averted hundreds of thousands of cases across China.\",\n",
    "#         'pub' : \"By 23 January 2020, China had imposed a national emergency response to restrict travel and impose social distancing measures on its populace in an attempt to inhibit the transmission of severe acute respiratory syndrome–coronavirus 2 (SARS-CoV-2). However, which measures were most effective is uncertain. Tian et al. performed a quantitative analysis of the impact of control measures between 31 December 2019 and 19 February 2020, which encompasses the Lunar New Year period when millions of people traveled across China for family visits. Travel restrictions in and out of Wuhan were too late to prevent the spread of the virus to 262 cities within 28 days. However, the epidemic peaked in Hubei province on 4 February 2020, indicating that measures such as closing citywide public transport and entertainment venues and banning public gatherings combined to avert hundreds of thousands of cases of infection. It is unlikely that this decline happened because the supply of susceptible, people was exhausted, so relaxing control measures could lead to a resurgence.\"\n",
    "#     },\n",
    "#     {\n",
    "#         'description' : \"COVID NMA 'Association between 2019-nCoV transmission and N95 respirator use' | https://www.medrxiv.org/content/10.1101/2020.02.18.20021881v1.full-text\",\n",
    "#         'pre' : \"\"\"Cases of a novel type of contagious pneumonia were first discovered a month ago in Wuhan. The Centers for Disease Control and Prevention (CDC) and Chinese health authorities have determined and announced that a novel coronavirus (CoV), denoted as 2019-nCoV, had caused this pneumonia outbreak.1,2 Existing evidence have confirmed the human-to-human transmission of 2019-nCoV.3\n",
    "\n",
    "# We retrospectively collected infection data from 2 January to 22 January at six departments (Respiratory, ICU, Infectious Disease, Hepatobiliary Pancreatic Surgery, Trauma and Microsurgery, and Urology) from Zhongnan Hospital of Wuhan University. Medical staffs in these department follow differential routines of occupational protection: the medical staff in departments of Respiratory, ICU, and Infectious Disease wore N95 respirators, disinfected and clean hands frequently (N95 group); due to people were not enough for the knowledge of the 2019-nCoV in these early days of the pneumonia outbreak, the medical staff in the other three departments wore no medical masks, disinfected and clean hands occasionally (no-mask group). Suspicious cases of 2019-nCoV infection was diagnosed with chest CT and confirmed with molecular diagnosis. In total, 28/58 ([confirmed/suspicious]) 2019-nCoV patients have been diagnosed during the collection period. Patient exposure was significantly higher for the N95 group compared to no-mask group (Table 1) (For confirmed patients: difference: 733%; exposure odds ratio: 8.33)\n",
    "\n",
    "# Among 493 medical staffs, zero out of 278 (([doctors+nurse] 56+222) from the N95 group were infected by 2019-nCoV. In stark contrast, 10 out of 213 (77+136) from the no-mask group were confirmed infected (Table 1). Regardless of significantly lowered exposure, the 2019-nCoV infection rate for medical staff was significantly increased in the no-mask group compared to the N95 respirator group (difference: 4.65%, [95% CI: 1.75%-infinite]; P<2.2e-16) (adjusted odds ratio (OR): 464.82, [95% CI: 97.73-infinite]; P<2.2e-16).\n",
    "\n",
    "# Meanwhile, we analyzed the medical staff infection data from Huangmei People’ s Hospital (12 confirmed patients) and Qichun People’ s Hospital (11 confirmed patients) and have observed the similar phenomenon. None of medical staff wearing the N95 respirators and follow frequent routines of disinfection with hand washing were infected by 2019-nCoV.\n",
    "\n",
    "# A randomized clinical trial has reported N95 respirators vs medical masks as worn by participants in this trial resulted in no significant difference in the incidence of laboratory confirmed influenza.4 In our study, we found N95 respirators, disinfection and hand washing can help to reduce the risk of 2019-nCoV infection in medical staffs. Interestingly, department with a high proportion of male doctors seem to have a higher risk of infection. Our results call for re-emphasizing strict occupational protection code in battling this novel contagious disease.\n",
    "\n",
    "# The risk of 2019-nCoV infection was higher in the open area than in the quarantined area. N95 may be more effective for 2019-nCoV infections.\"\"\",\n",
    "#         'pub' : \"\"\"Cases of a novel type of contagious pneumonia were first reported in December 2019 in Wuhan, China. The Centers for Disease Control and Prevention (CDC) and Chinese health authorities have determined that a novel coronavirus (CoV), denoted as 2019-nCoV (SARS-CoV-2), is the cause of this pneumonia outbreak (COVID-19) [[1]\n",
    "# ,[2]\n",
    "# ]. Existing evidence has confirmed the human-to-human transmission of 2019-nCoV [[3]\n",
    "# ].\n",
    "# We retrospectively collected infection data from 2 to 22 January 2020 at six departments (Respiratory, Intensive Care Unit (ICU), Infectious Disease, Hepatobiliary Pancreatic Surgery, Trauma and Microsurgery and Urology) from Zhongnan Hospital of Wuhan University. Medical staff (doctors and nurses) followed differential routines of occupational protection: (1) staff at the Departments of Respiratory Medicine, ICU, and Infectious Disease (mainly quarantined area) wore N95 respirators, and disinfected and cleaned their hands frequently (the N95 group); (2) medical staff in the other three departments wore no medical masks, and disinfected and cleaned their hands only occasionally (the no-mask group). The difference was because the latter departments were not considered to be high risk in the early days of the outbreak.\n",
    "# Suspected cases of 2019-nCoV infection were investigated by chest computed tomography, and confirmed by molecular diagnosis. In total, 28 and 58 patients had confirmed and suspected 2019-nCoV-infection, respectively. Patient exposure was significantly higher for the N95 group compared with the no-mask group (for confirmed patients, difference: 733%; exposure odds ratio: 8.33, Table I).\n",
    "# Among the 493 medical staff, none of the 278 staff (56 doctors and 222 nurses) in the N95 group became infected, but 10 of 213 staff (77 doctors and 136 nurses) from the no-mask group were confirmed as infected (Table I). Regardless of their lower risk of exposure, the 2019-nCoV infection rate for medical staff was significantly increased in the no-mask group compared with the N95 respirator group (difference: 4.65%, (95% confidence interval: 1.75%–infinite); P<2.2e-16) (adjusted odds ratio: 464.82, (95% confidence interval: 97.73–infinite); P<2.2e-16).\n",
    "# Likewise, we analysed the medical staff infection data from Huangmei People's Hospital (12 confirmed patients) and Qichun People's Hospital (11 confirmed patients), and observed a similar phenomenon. No medical staff wearing the N95 respirators and following routines of frequent disinfection and hand washing were infected by 2019-nCoV up until 22 January 2020.\n",
    "# A randomized clinical trial has reported that the N95 respirators vs medical masks resulted in no significant difference in the incidence of laboratory confirmed influenza [[4]\n",
    "# ]. In our study, we observed that the N95 respirators, disinfection and hand washing appeared to help reduce the infectious risk of 2019-nCoV in doctors and nurses. Interestingly, departments with a high proportion of male doctors seemed to have a higher risk of infection. Our results emphasize the need for strict occupational protection measures in fighting COVID-19.\"\"\"\n",
    "#     },\n",
    "#     {\n",
    "#         'description' : \"COVID NMA: Abstract of 'Clinical Features of COVID-19-Related Liver Functional Abnormality' | 10.1101/2020.02.26.20026971\",\n",
    "#         'pre' : \"\"\"BACKGROUND A recent outbreak of SARS-CoV-2 infection occurs mainly in China, with rapidly increasing the number of cases (namely COVID-19). Abnormal liver functions are frequently present in these patients, here we aimed to clarify the clinical features of COVID-19-related liver damage to provide some references for the clinical treatment.\n",
    "\n",
    "# METHODS In this retrospective, single-center study, we included all confirmed COVID-19 cases in Shanghai Public Health Clinical Center from January 20 to January 31, 2020. The outcomes were followed up until February 19, 2020. A total of 148 cases were analyzed for clinical features, laboratory parameters (including liver function tests), medications and the length of stay.\n",
    "\n",
    "# FINDINGS Of 148 confirmed SARS-CoV-2-infected patients, 49.3% were females and 50.7% were males. The median age was 50.5 years (interquartile range, 36-64). Patients had clinical manifestations of fever (70.1%), cough (45.3%), expectoration (26.7%) at admission. 75 patients (50.7%) showed abnormal liver functions at admission. Patients (n = 75) who had elevated liver function index were more likely to have a moderate-high degree fever (44% vs 27.4%; p = 0.035) and significantly present in male patients (62.67% vs 38.36%; p = 0.005). The numbers of CD4+ and CD8+ T cells were significantly lower in abnormal liver function group than those in normal liver function group. There was no statistical difference in prehospital medications between normal and abnormal liver function groups, while the utilization rate of lopinavir/ritonavir after admission was significantly higher in patients with emerging liver injury than that in patients with normal liver functions. Importantly, the emerging abnormal liver functions after admission caused a prolonged length of stay\n",
    "\n",
    "# INTERPRETATION SARS-CoV-2 may cause the liver function damage and the Lopinavir/ritonavir should be applied carefully for the treatment of COVID-19.\"\"\",\n",
    "#         'pub' : \"\"\"Background & Aims\n",
    "# Some patients with SARS-CoV-2 infection have abnormal liver function. We aimed to clarify the features of COVID-19-related liver damage to provide references for clinical treatment.\n",
    "# Methods\n",
    "# We performed a retrospective, single-center study of 148 consecutive patients with confirmed COVID-19 (73 female, 75 male; mean age, 50 years) at the Shanghai Public Health Clinical Center from January 20 through January 31, 2020. Patient outcomes were followed until February 19, 2020. Patients were analyzed for clinical features, laboratory parameters (including liver function tests), medications, and length of hospital stay. Abnormal liver function was defined as increased levels of alanine and aspartate aminotransferase, gamma glutamyltransferase, alkaline phosphatase, and total bilirubin.\n",
    "# Results\n",
    "# Fifty-five patients (37.2%) had abnormal liver function at hospital admission; 14.5% of these patients had high fever (14.5%), compared with 4.3% of patients with normal liver function (P = .027). Patients with abnormal liver function were more likely to be male, and had higher levels of procalcitonin and C-reactive protein. There was no statistical difference between groups in medications taken before hospitalization; a significantly higher proportion of patients with abnormal liver function (57.8%) had received lopinavir/ritonavir after admission compared to patients with normal liver function (31.3%). Patients with abnormal liver function had longer mean hospital stays (15.09 ± 4.79 days) than patients with normal liver function (12.76 ± 4.14 days) (P = .021).\n",
    "# Conclusions\n",
    "# More than one third of patients admitted to the hospital with SARS-CoV-2 infection have abnormal liver function, and this is associated with longer hospital stay. A significantly higher proportion of patients with abnormal liver function had received lopinavir/ritonavir after admission; these drugs should be given with caution.\"\"\",\n",
    "#     },\n",
    "#     {   \n",
    "#         'description': \"COVID NMA: Abstract of 'Therapeutic effects of dipyridamole on COVID-19 patients with coagulation dysfunction | https://www.medrxiv.org/content/10.1101/2020.02.27.20027557v1\",\n",
    "#         'pre' : \"\"\"The human coronavirus HCoV-19 infection can cause acute respiratory distress syndrome (ARDS), hypercoagulability, hypertension, extrapulmonary multiorgan dysfunction. Effective antiviral and anti-coagulation agents with safe clinical profiles are urgently needed to improve the overall prognosis. We screened an FDA approved drug library and found that an anticoagulant agent dipyridamole (DIP) suppressed HCoV-19 replication at an EC50 of 100 nM in vitro. It also elicited potent type I interferon responses and ameliorated lung pathology in a viral pneumonia model. In analysis of twelve HCoV-19 infected patients with prophylactic anti-coagulation therapy, we found that DIP supplementation was associated with significantly increased platelet and lymphocyte counts and decreased D-dimer levels in comparison to control patients. Two weeks after initiation of DIP treatment, 3 of the 6 severe cases (60%) and all 4 of the mild cases (100%) were discharged from the hospital. One critically ill patient with extremely high levels of D-dimer and lymphopenia at the time of receiving DIP passed away. All other patients were in clinical remission. In summary, HCoV-19 infected patients could potentially benefit from DIP adjunctive therapy by reducing viral replication, suppressing hypercoagulability and enhancing immune recovery. Larger scale clinical trials of DIP are needed to validate these therapeutic effects.\"\"\",\n",
    "#         'pub' : \"\"\"Severe acute respiratory syndrome coronavirus 2 (SARS-CoV-2) infection can cause acute respiratory distress syndrome, hypercoagulability, hypertension, and multiorgan dysfunction. Effective antivirals with safe clinical profile are urgently needed to improve the overall prognosis. In an analysis of a randomly collected cohort of 124 patients with COVID-19, we found that hypercoagulability as indicated by elevated concentrations of D-dimers was associated with disease severity. By virtual screening of a U.S. FDA approved drug library, we identified an anticoagulation agent dipyridamole (DIP) in silico, which suppressed SARS-CoV-2 replication in vitro. In a proof-of-concept trial involving 31 patients with COVID-19, DIP supplementation was associated with significantly decreased concentrations of D-dimers (P < 0.05), increased lymphocyte and platelet recovery in the circulation, and markedly improved clinical outcomes in comparison to the control patients. In particular, all 8 of the DIP-treated severely ill patients showed remarkable improvement: 7 patients (87.5%) achieved clinical cure and were discharged from the hospitals while the remaining 1 patient (12.5%) was in clinical remission.\"\"\"\n",
    "#     }\n",
    "# ]\n",
    "from manual_pairs import pairs\n"
   ]
  },
  {
   "cell_type": "code",
   "execution_count": 3,
   "metadata": {},
   "outputs": [
    {
     "name": "stdout",
     "output_type": "stream",
     "text": [
      "Test 1: near identical This is the first part of a testing pair, where the second part will be almost identical. This is the second part of a testing pair, where the first part was almost identical.\n",
      "title of first COVID NMA study 10.1101/2020.01.30.20019844 The impact of transmission control measures during the first 50 days of the COVID-19 epidemic in China An investigation of transmission control measures during the first 50 days of the COVID-19 epidemic in China\n",
      "abstract of first COVID NMA study 10.1101/2020.01.30.20019844 Respiratory illness caused by a novel coronavirus (COVID-19) appeared in China during December 2019. Attempting to contain infection, China banned travel to and from Wuhan city on 23 January and implemented a national emergency response. Here we evaluate the spread and control of the epidemic based on a unique synthesis of data including case reports, human movement and public health interventions. The Wuhan shutdown slowed the dispersal of infection to other cities by an estimated 2.91 days (95%CI: 2.54-3.29), delaying epidemic growth elsewhere in China. Other cities that implemented control measures pre-emptively reported 33.3% (11.1-44.4%) fewer cases in the first week of their outbreaks (13.0; 7.1-18.8) compared with cities that started control later (20.6; 14.5-26.8). Among interventions investigated here, the most effective were suspending intra-city public transport, closing entertainment venues and banning public gatherings. The national emergency response delayed the growth and limited the size of the COVID-19 epidemic and, by 19 February (day 50), had averted hundreds of thousands of cases across China. By 23 January 2020, China had imposed a national emergency response to restrict travel and impose social distancing measures on its populace in an attempt to inhibit the transmission of severe acute respiratory syndrome–coronavirus 2 (SARS-CoV-2). However, which measures were most effective is uncertain. Tian et al. performed a quantitative analysis of the impact of control measures between 31 December 2019 and 19 February 2020, which encompasses the Lunar New Year period when millions of people traveled across China for family visits. Travel restrictions in and out of Wuhan were too late to prevent the spread of the virus to 262 cities within 28 days. However, the epidemic peaked in Hubei province on 4 February 2020, indicating that measures such as closing citywide public transport and entertainment venues and banning public gatherings combined to avert hundreds of thousands of cases of infection. It is unlikely that this decline happened because the supply of susceptible, people was exhausted, so relaxing control measures could lead to a resurgence.\n",
      "COVID NMA 'Association between 2019-nCoV transmission and N95 respirator use' | https://www.medrxiv.org/content/10.1101/2020.02.18.20021881v1.full-text Cases of a novel type of contagious pneumonia were first discovered a month ago in Wuhan. The Centers for Disease Control and Prevention (CDC) and Chinese health authorities have determined and announced that a novel coronavirus (CoV), denoted as 2019-nCoV, had caused this pneumonia outbreak.1,2 Existing evidence have confirmed the human-to-human transmission of 2019-nCoV.3\n",
      "\n",
      "We retrospectively collected infection data from 2 January to 22 January at six departments (Respiratory, ICU, Infectious Disease, Hepatobiliary Pancreatic Surgery, Trauma and Microsurgery, and Urology) from Zhongnan Hospital of Wuhan University. Medical staffs in these department follow differential routines of occupational protection: the medical staff in departments of Respiratory, ICU, and Infectious Disease wore N95 respirators, disinfected and clean hands frequently (N95 group); due to people were not enough for the knowledge of the 2019-nCoV in these early days of the pneumonia outbreak, the medical staff in the other three departments wore no medical masks, disinfected and clean hands occasionally (no-mask group). Suspicious cases of 2019-nCoV infection was diagnosed with chest CT and confirmed with molecular diagnosis. In total, 28/58 ([confirmed/suspicious]) 2019-nCoV patients have been diagnosed during the collection period. Patient exposure was significantly higher for the N95 group compared to no-mask group (Table 1) (For confirmed patients: difference: 733%; exposure odds ratio: 8.33)\n",
      "\n",
      "Among 493 medical staffs, zero out of 278 (([doctors+nurse] 56+222) from the N95 group were infected by 2019-nCoV. In stark contrast, 10 out of 213 (77+136) from the no-mask group were confirmed infected (Table 1). Regardless of significantly lowered exposure, the 2019-nCoV infection rate for medical staff was significantly increased in the no-mask group compared to the N95 respirator group (difference: 4.65%, [95% CI: 1.75%-infinite]; P<2.2e-16) (adjusted odds ratio (OR): 464.82, [95% CI: 97.73-infinite]; P<2.2e-16).\n",
      "\n",
      "Meanwhile, we analyzed the medical staff infection data from Huangmei People’ s Hospital (12 confirmed patients) and Qichun People’ s Hospital (11 confirmed patients) and have observed the similar phenomenon. None of medical staff wearing the N95 respirators and follow frequent routines of disinfection with hand washing were infected by 2019-nCoV.\n",
      "\n",
      "A randomized clinical trial has reported N95 respirators vs medical masks as worn by participants in this trial resulted in no significant difference in the incidence of laboratory confirmed influenza.4 In our study, we found N95 respirators, disinfection and hand washing can help to reduce the risk of 2019-nCoV infection in medical staffs. Interestingly, department with a high proportion of male doctors seem to have a higher risk of infection. Our results call for re-emphasizing strict occupational protection code in battling this novel contagious disease.\n",
      "\n",
      "The risk of 2019-nCoV infection was higher in the open area than in the quarantined area. N95 may be more effective for 2019-nCoV infections. Cases of a novel type of contagious pneumonia were first reported in December 2019 in Wuhan, China. The Centers for Disease Control and Prevention (CDC) and Chinese health authorities have determined that a novel coronavirus (CoV), denoted as 2019-nCoV (SARS-CoV-2), is the cause of this pneumonia outbreak (COVID-19) [[1]\n",
      ",[2]\n",
      "]. Existing evidence has confirmed the human-to-human transmission of 2019-nCoV [[3]\n",
      "].\n",
      "We retrospectively collected infection data from 2 to 22 January 2020 at six departments (Respiratory, Intensive Care Unit (ICU), Infectious Disease, Hepatobiliary Pancreatic Surgery, Trauma and Microsurgery and Urology) from Zhongnan Hospital of Wuhan University. Medical staff (doctors and nurses) followed differential routines of occupational protection: (1) staff at the Departments of Respiratory Medicine, ICU, and Infectious Disease (mainly quarantined area) wore N95 respirators, and disinfected and cleaned their hands frequently (the N95 group); (2) medical staff in the other three departments wore no medical masks, and disinfected and cleaned their hands only occasionally (the no-mask group). The difference was because the latter departments were not considered to be high risk in the early days of the outbreak.\n",
      "Suspected cases of 2019-nCoV infection were investigated by chest computed tomography, and confirmed by molecular diagnosis. In total, 28 and 58 patients had confirmed and suspected 2019-nCoV-infection, respectively. Patient exposure was significantly higher for the N95 group compared with the no-mask group (for confirmed patients, difference: 733%; exposure odds ratio: 8.33, Table I).\n",
      "Among the 493 medical staff, none of the 278 staff (56 doctors and 222 nurses) in the N95 group became infected, but 10 of 213 staff (77 doctors and 136 nurses) from the no-mask group were confirmed as infected (Table I). Regardless of their lower risk of exposure, the 2019-nCoV infection rate for medical staff was significantly increased in the no-mask group compared with the N95 respirator group (difference: 4.65%, (95% confidence interval: 1.75%–infinite); P<2.2e-16) (adjusted odds ratio: 464.82, (95% confidence interval: 97.73–infinite); P<2.2e-16).\n",
      "Likewise, we analysed the medical staff infection data from Huangmei People's Hospital (12 confirmed patients) and Qichun People's Hospital (11 confirmed patients), and observed a similar phenomenon. No medical staff wearing the N95 respirators and following routines of frequent disinfection and hand washing were infected by 2019-nCoV up until 22 January 2020.\n",
      "A randomized clinical trial has reported that the N95 respirators vs medical masks resulted in no significant difference in the incidence of laboratory confirmed influenza [[4]\n",
      "]. In our study, we observed that the N95 respirators, disinfection and hand washing appeared to help reduce the infectious risk of 2019-nCoV in doctors and nurses. Interestingly, departments with a high proportion of male doctors seemed to have a higher risk of infection. Our results emphasize the need for strict occupational protection measures in fighting COVID-19.\n",
      "COVID NMA: Abstract of 'Clinical Features of COVID-19-Related Liver Functional Abnormality' | 10.1101/2020.02.26.20026971 BACKGROUND A recent outbreak of SARS-CoV-2 infection occurs mainly in China, with rapidly increasing the number of cases (namely COVID-19). Abnormal liver functions are frequently present in these patients, here we aimed to clarify the clinical features of COVID-19-related liver damage to provide some references for the clinical treatment.\n",
      "\n",
      "METHODS In this retrospective, single-center study, we included all confirmed COVID-19 cases in Shanghai Public Health Clinical Center from January 20 to January 31, 2020. The outcomes were followed up until February 19, 2020. A total of 148 cases were analyzed for clinical features, laboratory parameters (including liver function tests), medications and the length of stay.\n",
      "\n",
      "FINDINGS Of 148 confirmed SARS-CoV-2-infected patients, 49.3% were females and 50.7% were males. The median age was 50.5 years (interquartile range, 36-64). Patients had clinical manifestations of fever (70.1%), cough (45.3%), expectoration (26.7%) at admission. 75 patients (50.7%) showed abnormal liver functions at admission. Patients (n = 75) who had elevated liver function index were more likely to have a moderate-high degree fever (44% vs 27.4%; p = 0.035) and significantly present in male patients (62.67% vs 38.36%; p = 0.005). The numbers of CD4+ and CD8+ T cells were significantly lower in abnormal liver function group than those in normal liver function group. There was no statistical difference in prehospital medications between normal and abnormal liver function groups, while the utilization rate of lopinavir/ritonavir after admission was significantly higher in patients with emerging liver injury than that in patients with normal liver functions. Importantly, the emerging abnormal liver functions after admission caused a prolonged length of stay\n",
      "\n",
      "INTERPRETATION SARS-CoV-2 may cause the liver function damage and the Lopinavir/ritonavir should be applied carefully for the treatment of COVID-19. Background & Aims\n",
      "Some patients with SARS-CoV-2 infection have abnormal liver function. We aimed to clarify the features of COVID-19-related liver damage to provide references for clinical treatment.\n",
      "Methods\n",
      "We performed a retrospective, single-center study of 148 consecutive patients with confirmed COVID-19 (73 female, 75 male; mean age, 50 years) at the Shanghai Public Health Clinical Center from January 20 through January 31, 2020. Patient outcomes were followed until February 19, 2020. Patients were analyzed for clinical features, laboratory parameters (including liver function tests), medications, and length of hospital stay. Abnormal liver function was defined as increased levels of alanine and aspartate aminotransferase, gamma glutamyltransferase, alkaline phosphatase, and total bilirubin.\n",
      "Results\n",
      "Fifty-five patients (37.2%) had abnormal liver function at hospital admission; 14.5% of these patients had high fever (14.5%), compared with 4.3% of patients with normal liver function (P = .027). Patients with abnormal liver function were more likely to be male, and had higher levels of procalcitonin and C-reactive protein. There was no statistical difference between groups in medications taken before hospitalization; a significantly higher proportion of patients with abnormal liver function (57.8%) had received lopinavir/ritonavir after admission compared to patients with normal liver function (31.3%). Patients with abnormal liver function had longer mean hospital stays (15.09 ± 4.79 days) than patients with normal liver function (12.76 ± 4.14 days) (P = .021).\n",
      "Conclusions\n",
      "More than one third of patients admitted to the hospital with SARS-CoV-2 infection have abnormal liver function, and this is associated with longer hospital stay. A significantly higher proportion of patients with abnormal liver function had received lopinavir/ritonavir after admission; these drugs should be given with caution.\n",
      "COVID NMA: Abstract of 'Therapeutic effects of dipyridamole on COVID-19 patients with coagulation dysfunction | https://www.medrxiv.org/content/10.1101/2020.02.27.20027557v1 The human coronavirus HCoV-19 infection can cause acute respiratory distress syndrome (ARDS), hypercoagulability, hypertension, extrapulmonary multiorgan dysfunction. Effective antiviral and anti-coagulation agents with safe clinical profiles are urgently needed to improve the overall prognosis. We screened an FDA approved drug library and found that an anticoagulant agent dipyridamole (DIP) suppressed HCoV-19 replication at an EC50 of 100 nM in vitro. It also elicited potent type I interferon responses and ameliorated lung pathology in a viral pneumonia model. In analysis of twelve HCoV-19 infected patients with prophylactic anti-coagulation therapy, we found that DIP supplementation was associated with significantly increased platelet and lymphocyte counts and decreased D-dimer levels in comparison to control patients. Two weeks after initiation of DIP treatment, 3 of the 6 severe cases (60%) and all 4 of the mild cases (100%) were discharged from the hospital. One critically ill patient with extremely high levels of D-dimer and lymphopenia at the time of receiving DIP passed away. All other patients were in clinical remission. In summary, HCoV-19 infected patients could potentially benefit from DIP adjunctive therapy by reducing viral replication, suppressing hypercoagulability and enhancing immune recovery. Larger scale clinical trials of DIP are needed to validate these therapeutic effects. Severe acute respiratory syndrome coronavirus 2 (SARS-CoV-2) infection can cause acute respiratory distress syndrome, hypercoagulability, hypertension, and multiorgan dysfunction. Effective antivirals with safe clinical profile are urgently needed to improve the overall prognosis. In an analysis of a randomly collected cohort of 124 patients with COVID-19, we found that hypercoagulability as indicated by elevated concentrations of D-dimers was associated with disease severity. By virtual screening of a U.S. FDA approved drug library, we identified an anticoagulation agent dipyridamole (DIP) in silico, which suppressed SARS-CoV-2 replication in vitro. In a proof-of-concept trial involving 31 patients with COVID-19, DIP supplementation was associated with significantly decreased concentrations of D-dimers (P < 0.05), increased lymphocyte and platelet recovery in the circulation, and markedly improved clinical outcomes in comparison to the control patients. In particular, all 8 of the DIP-treated severely ill patients showed remarkable improvement: 7 patients (87.5%) achieved clinical cure and were discharged from the hospitals while the remaining 1 patient (12.5%) was in clinical remission.\n",
      "COVID NMA: Abstract of 'Impact assessment of non-pharmaceutical interventions against COVID-19 and influenza in Hong Kong: an observational study' | https://www.medrxiv.org/content/10.1101/2020.03.12.20034660v1 \n",
      "Background A range of public health measures have been implemented to delay and reduce local transmission of COVID-19 in Hong Kong, and there have been major changes in behaviours of the general public. We examined the effect of these interventions and behavioral changes on the incidence of COVID-19 as well as on influenza virus infections which may share some aspects of transmission dynamics with COVID-19.\n",
      "\n",
      "Methods We reviewed policy interventions and measured changes in population behaviours through two telephone surveys, on January 20-23 and February 11-14. We analysed data on laboratory-confirmed COVID-19 cases, influenza surveillance data in outpatients of all ages, and influenza hospitalisations in children. We estimated the daily effective reproduction number (Rt), for COVID-19 and influenza A(H1N1).\n",
      "\n",
      "Findings COVID-19 transmissibility has remained at or below 1, indicating successful containment to date. Influenza transmission declined substantially after the implementation of social distancing measures and changes in population behaviours in late January, with a 44% (95% confidence interval, CI: 34% to 53%) reduction in transmissibility in the community, and a 33% (95% CI: 24% to 43%) reduction in transmissibility based on paediatric hospitalization rates. In the two surveys we estimated that 74.5% and 97.5% of the general adult population wore masks when going out, and 61.3% and 90.2% avoided going to crowded places, respectively.\n",
      "\n",
      "Implications Containment measures, social distancing measures and changes in population behaviour have successfully prevented spread of COVID-19. The social distancing measures and behavioural changes led to a substantial reduction in influenza transmission in early February 2020. However, it may be challenging to avoid fatigue and sustain these measures and population behaviours as COVID-19 continues to spread globally.\n",
      " Background\n",
      "A range of public health measures have been implemented to suppress local transmission of coronavirus disease 2019 (COVID-19) in Hong Kong. We examined the effect of these interventions and behavioural changes of the public on the incidence of COVID-19, as well as on influenza virus infections, which might share some aspects of transmission dynamics with COVID-19.\n",
      "Methods\n",
      "We analysed data on laboratory-confirmed COVID-19 cases, influenza surveillance data in outpatients of all ages, and influenza hospitalisations in children. We estimated the daily effective reproduction number (Rt) for COVID-19 and influenza A H1N1 to estimate changes in transmissibility over time. Attitudes towards COVID-19 and changes in population behaviours were reviewed through three telephone surveys done on Jan 20–23, Feb 11–14, and March 10–13, 2020.\n",
      "Findings\n",
      "COVID-19 transmissibility measured by Rt has remained at approximately 1 for 8 weeks in Hong Kong. Influenza transmission declined substantially after the implementation of social distancing measures and changes in population behaviours in late January, with a 44% (95% CI 34–53%) reduction in transmissibility in the community, from an estimated Rt of 1·28 (95% CI 1·26–1·30) before the start of the school closures to 0·72 (0·70–0·74) during the closure weeks. Similarly, a 33% (24–43%) reduction in transmissibility was seen based on paediatric hospitalisation rates, from an Rt of 1·10 (1·06–1·12) before the start of the school closures to 0·73 (0·68–0·77) after school closures. Among respondents to the surveys, 74·5%, 97·5%, and 98·8% reported wearing masks when going out, and 61·3%, 90·2%, and 85·1% reported avoiding crowded places in surveys 1 (n=1008), 2 (n=1000), and 3 (n=1005), respectively.\n",
      "Interpretation\n",
      "Our study shows that non-pharmaceutical interventions (including border restrictions, quarantine and isolation, distancing, and changes in population behaviour) were associated with reduced transmission of COVID-19 in Hong Kong, and are also likely to have substantially reduced influenza transmission in early February, 2020.\n"
     ]
    }
   ],
   "source": [
    "for pair in pairs:\n",
    "    descr = pair['description']\n",
    "    pre = pair['pre']\n",
    "    pub = pair['pub']\n",
    "    print(descr, pre, pub)\n",
    "    preSentences = [sent.text for sent in nlp(pre).sents]\n",
    "    pubSentences = [sent.text for sent in nlp(pub).sents]\n",
    "\n",
    "    pair['pre sentiment'] = mean(list(map(polarize, sentiment_pipeline(preSentences))))\n",
    "    pair['pub sentiment'] = mean(list(map(polarize, sentiment_pipeline(pubSentences))))\n",
    "    pair['pre reading ease'] = textstat.flesch_reading_ease(pre)\n",
    "    pair['pub reading ease'] = textstat.flesch_reading_ease(pub)\n",
    "    pair['pre reading grade level'] = textstat.flesch_kincaid_grade(pre)\n",
    "    pair['pub reading grade level'] = textstat.flesch_kincaid_grade(pub)"
   ]
  },
  {
   "cell_type": "code",
   "execution_count": 4,
   "metadata": {},
   "outputs": [
    {
     "data": {
      "text/html": [
       "<div>\n",
       "<style scoped>\n",
       "    .dataframe tbody tr th:only-of-type {\n",
       "        vertical-align: middle;\n",
       "    }\n",
       "\n",
       "    .dataframe tbody tr th {\n",
       "        vertical-align: top;\n",
       "    }\n",
       "\n",
       "    .dataframe thead th {\n",
       "        text-align: right;\n",
       "    }\n",
       "</style>\n",
       "<table border=\"1\" class=\"dataframe\">\n",
       "  <thead>\n",
       "    <tr style=\"text-align: right;\">\n",
       "      <th></th>\n",
       "      <th>description</th>\n",
       "      <th>pre</th>\n",
       "      <th>pub</th>\n",
       "      <th>pre sentiment</th>\n",
       "      <th>pub sentiment</th>\n",
       "      <th>pre reading ease</th>\n",
       "      <th>pub reading ease</th>\n",
       "      <th>pre reading grade level</th>\n",
       "      <th>pub reading grade level</th>\n",
       "    </tr>\n",
       "  </thead>\n",
       "  <tbody>\n",
       "    <tr>\n",
       "      <th>0</th>\n",
       "      <td>Test 1: near identical</td>\n",
       "      <td>This is the first part of a testing pair, wher...</td>\n",
       "      <td>This is the second part of a testing pair, whe...</td>\n",
       "      <td>-0.990009</td>\n",
       "      <td>-0.997271</td>\n",
       "      <td>79.60</td>\n",
       "      <td>80.62</td>\n",
       "      <td>6.4</td>\n",
       "      <td>6.0</td>\n",
       "    </tr>\n",
       "    <tr>\n",
       "      <th>1</th>\n",
       "      <td>title of first COVID NMA study 10.1101/2020.01...</td>\n",
       "      <td>The impact of transmission control measures du...</td>\n",
       "      <td>An investigation of transmission control measu...</td>\n",
       "      <td>-0.948715</td>\n",
       "      <td>0.887153</td>\n",
       "      <td>62.68</td>\n",
       "      <td>45.76</td>\n",
       "      <td>8.7</td>\n",
       "      <td>11.1</td>\n",
       "    </tr>\n",
       "    <tr>\n",
       "      <th>2</th>\n",
       "      <td>abstract of first COVID NMA study 10.1101/2020...</td>\n",
       "      <td>Respiratory illness caused by a novel coronavi...</td>\n",
       "      <td>By 23 January 2020, China had imposed a nation...</td>\n",
       "      <td>-0.704706</td>\n",
       "      <td>-0.658682</td>\n",
       "      <td>47.89</td>\n",
       "      <td>38.96</td>\n",
       "      <td>10.3</td>\n",
       "      <td>13.7</td>\n",
       "    </tr>\n",
       "    <tr>\n",
       "      <th>3</th>\n",
       "      <td>COVID NMA 'Association between 2019-nCoV trans...</td>\n",
       "      <td>Cases of a novel type of contagious pneumonia ...</td>\n",
       "      <td>Cases of a novel type of contagious pneumonia ...</td>\n",
       "      <td>-0.740836</td>\n",
       "      <td>-0.372239</td>\n",
       "      <td>34.05</td>\n",
       "      <td>32.83</td>\n",
       "      <td>13.5</td>\n",
       "      <td>14.0</td>\n",
       "    </tr>\n",
       "    <tr>\n",
       "      <th>4</th>\n",
       "      <td>COVID NMA: Abstract of 'Clinical Features of C...</td>\n",
       "      <td>BACKGROUND A recent outbreak of SARS-CoV-2 inf...</td>\n",
       "      <td>Background &amp; Aims\\nSome patients with SARS-CoV...</td>\n",
       "      <td>-0.400964</td>\n",
       "      <td>-0.656794</td>\n",
       "      <td>51.14</td>\n",
       "      <td>40.24</td>\n",
       "      <td>9.0</td>\n",
       "      <td>11.1</td>\n",
       "    </tr>\n",
       "    <tr>\n",
       "      <th>5</th>\n",
       "      <td>COVID NMA: Abstract of 'Therapeutic effects of...</td>\n",
       "      <td>The human coronavirus HCoV-19 infection can ca...</td>\n",
       "      <td>Severe acute respiratory syndrome coronavirus ...</td>\n",
       "      <td>-0.773510</td>\n",
       "      <td>-0.326108</td>\n",
       "      <td>17.34</td>\n",
       "      <td>21.19</td>\n",
       "      <td>15.8</td>\n",
       "      <td>14.3</td>\n",
       "    </tr>\n",
       "    <tr>\n",
       "      <th>6</th>\n",
       "      <td>COVID NMA: Abstract of 'Impact assessment of n...</td>\n",
       "      <td>\\nBackground A range of public health measures...</td>\n",
       "      <td>Background\\nA range of public health measures ...</td>\n",
       "      <td>-0.229527</td>\n",
       "      <td>-0.568064</td>\n",
       "      <td>36.18</td>\n",
       "      <td>32.16</td>\n",
       "      <td>12.7</td>\n",
       "      <td>16.3</td>\n",
       "    </tr>\n",
       "  </tbody>\n",
       "</table>\n",
       "</div>"
      ],
      "text/plain": [
       "                                         description  \\\n",
       "0                             Test 1: near identical   \n",
       "1  title of first COVID NMA study 10.1101/2020.01...   \n",
       "2  abstract of first COVID NMA study 10.1101/2020...   \n",
       "3  COVID NMA 'Association between 2019-nCoV trans...   \n",
       "4  COVID NMA: Abstract of 'Clinical Features of C...   \n",
       "5  COVID NMA: Abstract of 'Therapeutic effects of...   \n",
       "6  COVID NMA: Abstract of 'Impact assessment of n...   \n",
       "\n",
       "                                                 pre  \\\n",
       "0  This is the first part of a testing pair, wher...   \n",
       "1  The impact of transmission control measures du...   \n",
       "2  Respiratory illness caused by a novel coronavi...   \n",
       "3  Cases of a novel type of contagious pneumonia ...   \n",
       "4  BACKGROUND A recent outbreak of SARS-CoV-2 inf...   \n",
       "5  The human coronavirus HCoV-19 infection can ca...   \n",
       "6  \\nBackground A range of public health measures...   \n",
       "\n",
       "                                                 pub  pre sentiment  \\\n",
       "0  This is the second part of a testing pair, whe...      -0.990009   \n",
       "1  An investigation of transmission control measu...      -0.948715   \n",
       "2  By 23 January 2020, China had imposed a nation...      -0.704706   \n",
       "3  Cases of a novel type of contagious pneumonia ...      -0.740836   \n",
       "4  Background & Aims\\nSome patients with SARS-CoV...      -0.400964   \n",
       "5  Severe acute respiratory syndrome coronavirus ...      -0.773510   \n",
       "6  Background\\nA range of public health measures ...      -0.229527   \n",
       "\n",
       "   pub sentiment  pre reading ease  pub reading ease  pre reading grade level  \\\n",
       "0      -0.997271             79.60             80.62                      6.4   \n",
       "1       0.887153             62.68             45.76                      8.7   \n",
       "2      -0.658682             47.89             38.96                     10.3   \n",
       "3      -0.372239             34.05             32.83                     13.5   \n",
       "4      -0.656794             51.14             40.24                      9.0   \n",
       "5      -0.326108             17.34             21.19                     15.8   \n",
       "6      -0.568064             36.18             32.16                     12.7   \n",
       "\n",
       "   pub reading grade level  \n",
       "0                      6.0  \n",
       "1                     11.1  \n",
       "2                     13.7  \n",
       "3                     14.0  \n",
       "4                     11.1  \n",
       "5                     14.3  \n",
       "6                     16.3  "
      ]
     },
     "execution_count": 4,
     "metadata": {},
     "output_type": "execute_result"
    }
   ],
   "source": [
    "df = pd.DataFrame(pairs)\n",
    "df"
   ]
  },
  {
   "cell_type": "code",
   "execution_count": 6,
   "metadata": {},
   "outputs": [
    {
     "name": "stdout",
     "output_type": "stream",
     "text": [
      "17.34\n",
      "21.19\n"
     ]
    }
   ],
   "source": [
    "import textstat\n",
    "d1 = pairs[-1]['pre']\n",
    "d2 = pairs[-1]['pub']\n",
    "print(textstat.flesch_reading_ease(d1))\n",
    "print(textstat.flesch_reading_ease(d2))\n"
   ]
  },
  {
   "cell_type": "code",
   "execution_count": 5,
   "metadata": {},
   "outputs": [
    {
     "data": {
      "text/plain": [
       "83.32"
      ]
     },
     "execution_count": 5,
     "metadata": {},
     "output_type": "execute_result"
    }
   ],
   "source": [
    "textstat.flesch_reading_ease(\"This is a simple sentence.\")"
   ]
  },
  {
   "cell_type": "code",
   "execution_count": 6,
   "metadata": {},
   "outputs": [
    {
     "data": {
      "text/plain": [
       "-27.34"
      ]
     },
     "execution_count": 6,
     "metadata": {},
     "output_type": "execute_result"
    }
   ],
   "source": [
    "textstat.flesch_reading_ease(\"This sentence utilizes increasingly sophisticated vocabulary choice from an unnecessarily complicated and verbose lexicon\")"
   ]
  },
  {
   "cell_type": "code",
   "execution_count": 7,
   "metadata": {},
   "outputs": [
    {
     "name": "stdout",
     "output_type": "stream",
     "text": [
      "2.9\n",
      "20.6\n"
     ]
    }
   ],
   "source": [
    "print(textstat.flesch_kincaid_grade(\"This is a simple sentence.\"))\n",
    "print(textstat.flesch_kincaid_grade(\"This sentence utilizes increasingly sophisticated vocabulary choice from an unnecessarily complicated and verbose lexicon\"))"
   ]
  },
  {
   "cell_type": "code",
   "execution_count": 11,
   "metadata": {},
   "outputs": [],
   "source": [
    "import subprocess\n",
    "def get_sca(s):\n",
    "    res = subprocess.run([\"nsca\", \"--text\", s])\n",
    "    if res.returncode == 0:\n",
    "        with open('result.csv', 'r') as f:\n",
    "            values_string = f.read().split('\\n')[1]\n",
    "            values = tuple(map(float, values_string.split(',')[1:]))\n",
    "        return values\n",
    "    else:\n",
    "        print(\"Something went wrong when running the command line neosca\", res)\n",
    "        return res\n"
   ]
  },
  {
   "cell_type": "code",
   "execution_count": 16,
   "metadata": {},
   "outputs": [],
   "source": [
    "res = get_sca(pairs[-1]['pre'])"
   ]
  },
  {
   "cell_type": "code",
   "execution_count": 15,
   "metadata": {},
   "outputs": [
    {
     "data": {
      "text/plain": [
       "(295.0,\n",
       " 11.0,\n",
       " 22.0,\n",
       " 15.0,\n",
       " 13.0,\n",
       " 3.0,\n",
       " 3.0,\n",
       " 12.0,\n",
       " 33.0,\n",
       " 26.8182,\n",
       " 22.6923,\n",
       " 19.6667,\n",
       " 1.3636,\n",
       " 1.6923,\n",
       " 1.1538,\n",
       " 0.2,\n",
       " 0.2308,\n",
       " 1.1818,\n",
       " 0.2308,\n",
       " 0.9231,\n",
       " 0.8,\n",
       " 2.5385,\n",
       " 2.2)"
      ]
     },
     "execution_count": 15,
     "metadata": {},
     "output_type": "execute_result"
    }
   ],
   "source": [
    "res"
   ]
  }
 ],
 "metadata": {
  "kernelspec": {
   "display_name": "peer",
   "language": "python",
   "name": "python3"
  },
  "language_info": {
   "codemirror_mode": {
    "name": "ipython",
    "version": 3
   },
   "file_extension": ".py",
   "mimetype": "text/x-python",
   "name": "python",
   "nbconvert_exporter": "python",
   "pygments_lexer": "ipython3",
   "version": "3.9.1"
  },
  "orig_nbformat": 4
 },
 "nbformat": 4,
 "nbformat_minor": 2
}
